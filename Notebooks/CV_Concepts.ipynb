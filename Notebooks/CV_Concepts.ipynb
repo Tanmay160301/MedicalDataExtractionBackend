{
 "cells": [
  {
   "cell_type": "code",
   "execution_count": 1,
   "id": "1f8e2ad6",
   "metadata": {},
   "outputs": [],
   "source": [
    "import cv2\n",
    "from PIL import Image#from PIL module we are importing Image "
   ]
  },
  {
   "cell_type": "code",
   "execution_count": 7,
   "id": "e22d7c5e",
   "metadata": {},
   "outputs": [
    {
     "data": {
      "text/plain": [
       "array([[206, 206, 206, ..., 187, 186, 184],\n",
       "       [206, 206, 206, ..., 186, 185, 185],\n",
       "       [206, 206, 206, ..., 186, 185, 185],\n",
       "       ...,\n",
       "       [162, 157, 152, ..., 184, 184, 184],\n",
       "       [160, 156, 152, ..., 184, 184, 184],\n",
       "       [156, 158, 158, ..., 184, 184, 184]], dtype=uint8)"
      ]
     },
     "execution_count": 7,
     "metadata": {},
     "output_type": "execute_result"
    }
   ],
   "source": [
    "img=cv2.imread('dark_image.jpg',0)\n",
    "img"
   ]
  },
  {
   "cell_type": "code",
   "execution_count": 3,
   "id": "6912d8bf",
   "metadata": {},
   "outputs": [],
   "source": [
    "Image.fromarray(img).show()"
   ]
  },
  {
   "cell_type": "code",
   "execution_count": 8,
   "id": "835b9ce6",
   "metadata": {},
   "outputs": [],
   "source": [
    "#Simple Thresholding\n",
    "\n",
    "first,new_img=cv2.threshold(img,150,255,cv2.THRESH_BINARY)\n",
    "Image.fromarray(new_img).show()\n",
    "\n",
    "#for clear image it will work all good ...but in case of dark image it doesnt work well.."
   ]
  },
  {
   "cell_type": "code",
   "execution_count": 18,
   "id": "f1261da2",
   "metadata": {},
   "outputs": [],
   "source": [
    "#Adaptive thresholding\n",
    "\n",
    "adap_img=cv2.adaptiveThreshold(img,255,cv2.ADAPTIVE_THRESH_GAUSSIAN_C,cv2.THRESH_BINARY,61,11)\n",
    "Image.fromarray(adap_img).show()\n"
   ]
  },
  {
   "cell_type": "code",
   "execution_count": null,
   "id": "3b786163",
   "metadata": {},
   "outputs": [],
   "source": []
  }
 ],
 "metadata": {
  "kernelspec": {
   "display_name": "Python 3 (ipykernel)",
   "language": "python",
   "name": "python3"
  },
  "language_info": {
   "codemirror_mode": {
    "name": "ipython",
    "version": 3
   },
   "file_extension": ".py",
   "mimetype": "text/x-python",
   "name": "python",
   "nbconvert_exporter": "python",
   "pygments_lexer": "ipython3",
   "version": "3.8.10"
  }
 },
 "nbformat": 4,
 "nbformat_minor": 5
}
