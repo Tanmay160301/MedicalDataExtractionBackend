{
 "cells": [
  {
   "cell_type": "code",
   "execution_count": 4,
   "id": "926fcb99",
   "metadata": {},
   "outputs": [
    {
     "data": {
      "text/plain": [
       "[<PIL.PpmImagePlugin.PpmImageFile image mode=RGB size=1867x2000 at 0x278C8BC3310>,\n",
       " <PIL.PpmImagePlugin.PpmImageFile image mode=RGB size=2000x1398 at 0x278C8BC3340>]"
      ]
     },
     "execution_count": 4,
     "metadata": {},
     "output_type": "execute_result"
    }
   ],
   "source": [
    "from pdf2image import convert_from_path\n",
    "pages=convert_from_path(r'docs\\patient_details\\pd_1.pdf',poppler_path=r'C:\\poppler-22.04.0\\Library\\bin')\n",
    "pages"
   ]
  },
  {
   "cell_type": "code",
   "execution_count": 2,
   "id": "fe141db2",
   "metadata": {},
   "outputs": [
    {
     "data": {
      "text/plain": [
       "2"
      ]
     },
     "execution_count": 2,
     "metadata": {},
     "output_type": "execute_result"
    }
   ],
   "source": [
    "len(pages)"
   ]
  },
  {
   "cell_type": "code",
   "execution_count": 13,
   "id": "22bda765",
   "metadata": {},
   "outputs": [],
   "source": [
    "#You can view the photos something like this...\n",
    "pages[0].show()\n",
    "# pages[1].show()"
   ]
  },
  {
   "cell_type": "code",
   "execution_count": 9,
   "id": "70751255",
   "metadata": {},
   "outputs": [
    {
     "name": "stdout",
     "output_type": "stream",
     "text": [
      "47/12/2020\n",
      "\n",
      "Patient Medical Record\n",
      "\n",
      "Patient Information Birth Date\n",
      "Kathy Crawford May 6 1972\n",
      "(737) 988-0851 Weight\n",
      "9264 Ash Dr 95\n",
      "New York City, 10005 .\n",
      "United States Height:\n",
      "190\n",
      "In Case of Emergency\n",
      "m _ eee ee\n",
      "Simeone Crawford 9266 Ash Dr\n",
      "New York City, New York, 10005\n",
      "Home phone United States\n",
      "(990) 375-4621\n",
      "Work phone\n",
      "Genera! Medical History\n",
      "\n",
      "Chicken Pox (Varicella):\n",
      "\n",
      "IMMUNE IMMUNE\n",
      "Have you had the Hepatitis B vaccination?\n",
      "\n",
      "No\n",
      "List any Medical Problems (asthma, seizures, headaches):\n",
      "\n",
      "Migraine\n"
     ]
    }
   ],
   "source": [
    "import pytesseract\n",
    "pytesseract.pytesseract.tesseract_cmd=r'C:\\Program Files\\Tesseract-OCR\\tesseract.exe'\n",
    "text=pytesseract.image_to_string(pages[0],lang='eng')\n",
    "print(text)#This text as it is not preprocessed will contain a lot of errors"
   ]
  },
  {
   "cell_type": "code",
   "execution_count": 10,
   "id": "1132d3fc",
   "metadata": {},
   "outputs": [],
   "source": [
    "import numpy as np\n",
    "import cv2\n",
    "from PIL import Image\n",
    "\n",
    "#we will create a function which will preprocess the image\n",
    "def preprocess_img(img):\n",
    "    gray=cv2.cvtColor(np.array(img),cv2.COLOR_BGR2GRAY)\n",
    "    resized_img=cv2.resize(gray,None,fx=1.5,fy=1.5,interpolation=cv2.INTER_LINEAR)\n",
    "    processed_img=cv2.adaptiveThreshold(resized_img,255,cv2.ADAPTIVE_THRESH_GAUSSIAN_C,cv2.THRESH_BINARY,61,11)\n",
    "    return processed_img"
   ]
  },
  {
   "cell_type": "code",
   "execution_count": null,
   "id": "47720887",
   "metadata": {},
   "outputs": [],
   "source": []
  },
  {
   "cell_type": "code",
   "execution_count": 11,
   "id": "c1afdb97",
   "metadata": {},
   "outputs": [
    {
     "name": "stdout",
     "output_type": "stream",
     "text": [
      "47/12/2020\n",
      "\n",
      "Patient Medical Record\n",
      "\n",
      "Patient Information Birth Date\n",
      "Kathy Crawford May 6 1972\n",
      "(737) 988-0851 Weight\n",
      "9264 Ash Dr 95\n",
      "New York City, 10005 .\n",
      "United States Height:\n",
      "190\n",
      "In Case of Emergency\n",
      "m _ eee ee\n",
      "Simeone Crawford 9266 Ash Dr\n",
      "New York City, New York, 10005\n",
      "Home phone United States\n",
      "(990) 375-4621\n",
      "Work phone\n",
      "Genera! Medical History\n",
      "\n",
      "Chicken Pox (Varicella):\n",
      "\n",
      "IMMUNE IMMUNE\n",
      "Have you had the Hepatitis B vaccination?\n",
      "\n",
      "No\n",
      "List any Medical Problems (asthma, seizures, headaches):\n",
      "\n",
      "Migraine\n"
     ]
    }
   ],
   "source": [
    "\n",
    "processed=preprocess_img(pages[0])\n",
    "Image.fromarray(processed).show()\n",
    "processed=preprocess_img(pages[1])\n",
    "Image.fromarray(processed).show()\n",
    "text=pytesseract.image_to_string(pages[0],lang='eng')\n",
    "print(text)\n",
    "\n",
    "    "
   ]
  },
  {
   "cell_type": "code",
   "execution_count": 11,
   "id": "90d72aee",
   "metadata": {},
   "outputs": [
    {
     "name": "stdout",
     "output_type": "stream",
     "text": [
      "['May']\n",
      "[]\n",
      "\n"
     ]
    },
    {
     "data": {
      "text/plain": [
       "''"
      ]
     },
     "execution_count": 11,
     "metadata": {},
     "output_type": "execute_result"
    }
   ],
   "source": [
    "import re\n",
    "pattern=\"Birth Date\\n(.*) \\d \\d{4}|Birth Date\\n(.*) \\d{2} \\d{4}\"\n",
    "matches=re.findall(pattern,text)\n",
    "val=matches[0][0]\n",
    "list=val.split(' ')\n",
    "print(list)\n",
    "list.pop(-1)\n",
    "print(list)\n",
    "string=''\n",
    "for i in list:\n",
    "    string=string+i\n",
    "    string+=' '\n",
    "print(string)#Here string contains the valur of name\n",
    "string"
   ]
  },
  {
   "cell_type": "code",
   "execution_count": 20,
   "id": "f26c636b",
   "metadata": {},
   "outputs": [
    {
     "ename": "IndexError",
     "evalue": "list index out of range",
     "output_type": "error",
     "traceback": [
      "\u001b[1;31m---------------------------------------------------------------------------\u001b[0m",
      "\u001b[1;31mIndexError\u001b[0m                                Traceback (most recent call last)",
      "Input \u001b[1;32mIn [20]\u001b[0m, in \u001b[0;36m<cell line: 3>\u001b[1;34m()\u001b[0m\n\u001b[0;32m      1\u001b[0m pattern\u001b[38;5;241m=\u001b[39m\u001b[38;5;124m'\u001b[39m\u001b[38;5;124m(.*) Weight\u001b[39m\u001b[38;5;124m'\u001b[39m\u001b[38;5;66;03m#Here we havent implemented dot matches new line\u001b[39;00m\n\u001b[0;32m      2\u001b[0m matches\u001b[38;5;241m=\u001b[39mre\u001b[38;5;241m.\u001b[39mfindall(pattern,text)\n\u001b[1;32m----> 3\u001b[0m \u001b[43mmatches\u001b[49m\u001b[43m[\u001b[49m\u001b[38;5;241;43m0\u001b[39;49m\u001b[43m]\u001b[49m\n",
      "\u001b[1;31mIndexError\u001b[0m: list index out of range"
     ]
    }
   ],
   "source": [
    "pattern='(.*) Weight'#Here we havent implemented dot matches new line\n",
    "matches=re.findall(pattern,text)\n",
    "matches[0]"
   ]
  },
  {
   "cell_type": "code",
   "execution_count": 70,
   "id": "e9839c16",
   "metadata": {},
   "outputs": [
    {
     "data": {
      "text/plain": [
       "'No'"
      ]
     },
     "execution_count": 70,
     "metadata": {},
     "output_type": "execute_result"
    }
   ],
   "source": [
    "pattern='\\?(.*)List'\n",
    "matches=re.findall(pattern,text,flags=re.DOTALL)\n",
    "vaccine=matches[0].strip()\n",
    "vaccine"
   ]
  },
  {
   "cell_type": "code",
   "execution_count": 23,
   "id": "0ba5f1ba",
   "metadata": {},
   "outputs": [
    {
     "data": {
      "text/plain": [
       "'Migraine'"
      ]
     },
     "execution_count": 23,
     "metadata": {},
     "output_type": "execute_result"
    }
   ],
   "source": [
    "pattern='List any.*:(.*)'\n",
    "matches=re.findall(pattern,text,flags=re.DOTALL)\n",
    "medical_problems=matches[0].strip()\n",
    "medical_problems"
   ]
  },
  {
   "cell_type": "code",
   "execution_count": 11,
   "id": "f53e3581",
   "metadata": {},
   "outputs": [
    {
     "data": {
      "text/plain": [
       "'(737) 988-0851'"
      ]
     },
     "execution_count": 11,
     "metadata": {},
     "output_type": "execute_result"
    }
   ],
   "source": [
    "pattern='Patient Information.*?(\\(\\d{3}\\) \\d{3}-\\d{4})'\n",
    "matches=re.findall(pattern,text,flags=re.DOTALL)\n",
    "matches[0].strip()"
   ]
  },
  {
   "cell_type": "code",
   "execution_count": 12,
   "id": "746821b4",
   "metadata": {},
   "outputs": [
    {
     "name": "stdout",
     "output_type": "stream",
     "text": [
      "['\\nKathy Crawford May ']\n",
      "['Kathy', 'Crawford', 'May']\n",
      "3\n"
     ]
    },
    {
     "data": {
      "text/plain": [
       "'Kathy Crawford'"
      ]
     },
     "execution_count": 12,
     "metadata": {},
     "output_type": "execute_result"
    }
   ],
   "source": [
    "pattern='Birth Date(.*?)\\d'\n",
    "match=re.findall(pattern,text,re.DOTALL)\n",
    "print(match)\n",
    "list=match[0].split()\n",
    "print(list)\n",
    "print(len(list))\n",
    "list.pop(-1)\n",
    "list\n",
    "name=' '.join(list)\n",
    "name"
   ]
  },
  {
   "cell_type": "code",
   "execution_count": 27,
   "id": "781c2261",
   "metadata": {},
   "outputs": [
    {
     "data": {
      "text/plain": [
       "''"
      ]
     },
     "execution_count": 27,
     "metadata": {},
     "output_type": "execute_result"
    }
   ],
   "source": [
    "pattern='Problems.*:(.*)'\n",
    "matches=re.findall(pattern,text,flags=re.DOTALL)\n",
    "medical_problems=matches[0].strip()\n",
    "medical_problems"
   ]
  }
 ],
 "metadata": {
  "kernelspec": {
   "display_name": "Python 3 (ipykernel)",
   "language": "python",
   "name": "python3"
  },
  "language_info": {
   "codemirror_mode": {
    "name": "ipython",
    "version": 3
   },
   "file_extension": ".py",
   "mimetype": "text/x-python",
   "name": "python",
   "nbconvert_exporter": "python",
   "pygments_lexer": "ipython3",
   "version": "3.8.10"
  },
  "vscode": {
   "interpreter": {
    "hash": "a4868653bb6f8972e87e4c446ab8a445a15b25dedb8594cc74c480f8152ea86a"
   }
  }
 },
 "nbformat": 4,
 "nbformat_minor": 5
}
