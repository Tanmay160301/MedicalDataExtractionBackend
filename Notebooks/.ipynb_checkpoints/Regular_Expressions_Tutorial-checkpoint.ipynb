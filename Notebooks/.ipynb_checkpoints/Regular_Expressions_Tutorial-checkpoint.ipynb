{
 "cells": [
  {
   "cell_type": "code",
   "execution_count": 2,
   "id": "47eb2c92",
   "metadata": {},
   "outputs": [],
   "source": [
    "import re"
   ]
  },
  {
   "cell_type": "code",
   "execution_count": 24,
   "id": "5c432d2e",
   "metadata": {},
   "outputs": [
    {
     "data": {
      "text/plain": [
       "['9998887771', '120']"
      ]
     },
     "execution_count": 24,
     "metadata": {},
     "output_type": "execute_result"
    }
   ],
   "source": [
    "text='Patients phone is 9998887771 . The Bill Amount is 120Rs'\n",
    "pattern='\\d+'\n",
    "\n",
    "#here match will return all the matched patterns in a list wherein the matched strings are present\n",
    "match=re.findall(pattern,text)\n",
    "match"
   ]
  },
  {
   "cell_type": "code",
   "execution_count": 4,
   "id": "63150f36",
   "metadata": {},
   "outputs": [
    {
     "data": {
      "text/plain": [
       "['9998887771']"
      ]
     },
     "execution_count": 4,
     "metadata": {},
     "output_type": "execute_result"
    }
   ],
   "source": [
    "pattern2='\\d{10}'\n",
    "match=re.findall(pattern2,text)\n",
    "match"
   ]
  },
  {
   "cell_type": "code",
   "execution_count": 6,
   "id": "59d4c4ef",
   "metadata": {},
   "outputs": [
    {
     "data": {
      "text/plain": [
       "['(732)-111-9999', '1234567890']"
      ]
     },
     "execution_count": 6,
     "metadata": {},
     "output_type": "execute_result"
    }
   ],
   "source": [
    "text=\"Patient's phone is (732)-111-9999 , spouse phone number is 1234567890. Bill amount is 120Rs.\"\n",
    "pattern=\"\\S\\d{3}\\S-\\d{3}-\\d{4}|\\d{10}\"\n",
    "match=re.findall(pattern,text)\n",
    "match"
   ]
  },
  {
   "cell_type": "code",
   "execution_count": 12,
   "id": "94dc01f2",
   "metadata": {},
   "outputs": [
    {
     "data": {
      "text/plain": [
       "('7775554441', '120')"
      ]
     },
     "execution_count": 12,
     "metadata": {},
     "output_type": "execute_result"
    }
   ],
   "source": [
    "text='Patient phone number is 7775554441. The Bill amount is 120Rs'\n",
    "pattern=''\n",
    "match=re.search(pattern,text)\n",
    "match.groups()\n"
   ]
  },
  {
   "cell_type": "code",
   "execution_count": 3,
   "id": "88dff475",
   "metadata": {},
   "outputs": [
    {
     "data": {
      "text/plain": [
       "[' Marta Sharapova ']"
      ]
     },
     "execution_count": 3,
     "metadata": {},
     "output_type": "execute_result"
    }
   ],
   "source": [
    "text='''\n",
    "Dr John Smith, M.D\n",
    "2 Non-Important Street,\n",
    "New York, Phone (000)-111-2222\n",
    "\n",
    "Name: Marta Sharapova Date: 5/11/2022\n",
    "\n",
    "Address: 9 tennis court, new Russia, DC\n",
    "\n",
    "K\n",
    "\n",
    "Prednisone 20 mg\n",
    "Lialda 2.4 gram\n",
    "\n",
    "Directions:\n",
    "\n",
    "Prednisone, Taper 5 mg every 3 days,\n",
    "Finish in 2.5 weeks a\n",
    "Lialda - take 2 pill everyday for 1 month\n",
    "\n",
    "Refill: 2 times\n",
    "'''\n",
    "pattern=\"Name:(.*)Date\"\n",
    "\n",
    "match=re.findall(pattern,text)\n",
    "match\n"
   ]
  },
  {
   "cell_type": "code",
   "execution_count": 4,
   "id": "8081e1d5",
   "metadata": {},
   "outputs": [
    {
     "data": {
      "text/plain": [
       "[' 5/11/2022']"
      ]
     },
     "execution_count": 4,
     "metadata": {},
     "output_type": "execute_result"
    }
   ],
   "source": [
    "text='''\n",
    "Dr John Smith, M.D\n",
    "2 Non-Important Street,\n",
    "New York, Phone (000)-111-2222\n",
    "\n",
    "Name: Marta Sharapova Date: 5/11/2022\n",
    "\n",
    "Address: 9 tennis court, new Russia, DC\n",
    "\n",
    "K\n",
    "\n",
    "Prednisone 20 mg\n",
    "Lialda 2.4 gram\n",
    "\n",
    "Directions:\n",
    "\n",
    "Prednisone, Taper 5 mg every 3 days,\n",
    "Finish in 2.5 weeks a\n",
    "Lialda - take 2 pill everyday for 1 month\n",
    "\n",
    "Refill: 2 times\n",
    "'''\n",
    "pattern=\"Date:(.*)\\n\"\n",
    "\n",
    "match=re.findall(pattern,text)\n",
    "match\n"
   ]
  },
  {
   "cell_type": "code",
   "execution_count": 5,
   "id": "cb173ee0",
   "metadata": {},
   "outputs": [
    {
     "data": {
      "text/plain": [
       "[' 9 tennis court, new Russia, DC']"
      ]
     },
     "execution_count": 5,
     "metadata": {},
     "output_type": "execute_result"
    }
   ],
   "source": [
    "text='''\n",
    "Dr John Smith, M.D\n",
    "2 Non-Important Street,\n",
    "New York, Phone (000)-111-2222\n",
    "\n",
    "Name: Marta Sharapova Date: 5/11/2022\n",
    "\n",
    "Address: 9 tennis court, new Russia, DC\n",
    "\n",
    "K\n",
    "\n",
    "Prednisone 20 mg\n",
    "Lialda 2.4 gram\n",
    "\n",
    "Directions:\n",
    "\n",
    "Prednisone, Taper 5 mg every 3 days,\n",
    "Finish in 2.5 weeks a\n",
    "Lialda - take 2 pill everyday for 1 month\n",
    "\n",
    "Refill: 2 times\n",
    "'''\n",
    "pattern=\"Address:(.*)\\n\"\n",
    "\n",
    "match=re.findall(pattern,text)\n",
    "match\n"
   ]
  },
  {
   "cell_type": "code",
   "execution_count": 25,
   "id": "fd470d8a",
   "metadata": {},
   "outputs": [
    {
     "name": "stdout",
     "output_type": "stream",
     "text": [
      "['\\n\\n\\nPrednisone 20 mg\\nLialda 2.4 gram\\n\\n']\n",
      "Prednisone 20 mg\n",
      "Lialda 2.4 gram\n"
     ]
    }
   ],
   "source": [
    "text='''\n",
    "Dr John Smith, M.D\n",
    "2 Non-Important Street,\n",
    "New York, Phone (000)-111-2222\n",
    "\n",
    "Name: Marta Sharapova Date: 5/11/2022\n",
    "\n",
    "Address: 9 tennis court, new Russia, DC\n",
    "\n",
    "\n",
    "Prednisone 20 mg\n",
    "Lialda 2.4 gram\n",
    "\n",
    "Directions:\n",
    "\n",
    "Prednisone, Taper 5 mg every 3 days,\n",
    "Finish in 2.5 weeks a\n",
    "Lialda - take 2 pill everyday for 1 month\n",
    "\n",
    "Refill: 2 times\n",
    "'''\n",
    "pattern=\"Address:[^\\n]*(.*)Directions\"\n",
    "\n",
    "match=re.findall(pattern,text,flags=re.DOTALL)#it will return a list of data extracted\n",
    "print(match)\n",
    "\n",
    "match=match[0].strip()\n",
    "print(match)\n"
   ]
  },
  {
   "cell_type": "code",
   "execution_count": 27,
   "id": "c9a3a55d",
   "metadata": {},
   "outputs": [
    {
     "name": "stdout",
     "output_type": "stream",
     "text": [
      "Prednisone, Taper 5 mg every 3 days,\n",
      "Finish in 2.5 weeks a\n",
      "Lialda - take 2 pill everyday for 1 month\n"
     ]
    }
   ],
   "source": [
    "text='''\n",
    "Dr John Smith, M.D\n",
    "2 Non-Important Street,\n",
    "New York, Phone (000)-111-2222\n",
    "\n",
    "Name: Marta Sharapova Date: 5/11/2022\n",
    "\n",
    "Address: 9 tennis court, new Russia, DC\n",
    "\n",
    "\n",
    "Prednisone 20 mg\n",
    "Lialda 2.4 gram\n",
    "\n",
    "Directions:\n",
    "\n",
    "Prednisone, Taper 5 mg every 3 days,\n",
    "Finish in 2.5 weeks a\n",
    "Lialda - take 2 pill everyday for 1 month\n",
    "\n",
    "Refill: 2 times\n",
    "'''\n",
    "pattern=\"Directions:\\n(.*)Refill\"\n",
    "\n",
    "match=re.findall(pattern,text,flags=re.DOTALL)#it will return a list of data extracted\n",
    "#Here match is a list containing the list of matched string \n",
    "#match[0] is the required string\n",
    "match=match[0].strip()#strip function is used to discard the white spaces which occur in the beginning and end of the string\n",
    "print(match)\n"
   ]
  },
  {
   "cell_type": "code",
   "execution_count": 28,
   "id": "2c2a608d",
   "metadata": {},
   "outputs": [
    {
     "name": "stdout",
     "output_type": "stream",
     "text": [
      "2 times\n"
     ]
    }
   ],
   "source": [
    "text='''\n",
    "Dr John Smith, M.D\n",
    "2 Non-Important Street,\n",
    "New York, Phone (000)-111-2222\n",
    "\n",
    "Name: Marta Sharapova Date: 5/11/2022\n",
    "\n",
    "Address: 9 tennis court, new Russia, DC\n",
    "\n",
    "\n",
    "Prednisone 20 mg\n",
    "Lialda 2.4 gram\n",
    "\n",
    "Directions:\n",
    "\n",
    "Prednisone, Taper 5 mg every 3 days,\n",
    "Finish in 2.5 weeks a\n",
    "Lialda - take 2 pill everyday for 1 month\n",
    "\n",
    "Refill: 2 times\n",
    "'''\n",
    "pattern=\"Refill:(.*)\"\n",
    "\n",
    "match=re.findall(pattern,text,flags=re.DOTALL)#it will return a list of data extracted\n",
    "#Here match is a list containing the list of matched string \n",
    "#match[0] is the required string\n",
    "match=match[0].strip()#strip function is used to discard the white spaces which occur in the beginning and end of the string\n",
    "print(match)\n"
   ]
  },
  {
   "cell_type": "code",
   "execution_count": 29,
   "id": "f7519051",
   "metadata": {},
   "outputs": [
    {
     "data": {
      "text/plain": [
       "['elonmusk', 'teslarati', 'dummy_tesla', 'dummy_2_tesla']"
      ]
     },
     "execution_count": 29,
     "metadata": {},
     "output_type": "execute_result"
    }
   ],
   "source": [
    "text='''\n",
    "Follow our leader Elon musk on Twitter \n",
    "here: https://twitter.com/elonmusk, more information \n",
    "on Tesla's products can be found at https://www.tesla.com/. \n",
    "Also here are leading influencers for tesla-related news, \n",
    "https://twitter.com/teslarati\n",
    "https://twitter.com/dummy_tesla\n",
    "https://twitter.com/dummy_2_tesla\"\n",
    "'''\n",
    "\n",
    "pattern='https://twitter.com/([a-zA-Z0-9_]*|)'\n",
    "match=re.findall(pattern,text)\n",
    "match"
   ]
  }
 ],
 "metadata": {
  "kernelspec": {
   "display_name": "Python 3 (ipykernel)",
   "language": "python",
   "name": "python3"
  },
  "language_info": {
   "codemirror_mode": {
    "name": "ipython",
    "version": 3
   },
   "file_extension": ".py",
   "mimetype": "text/x-python",
   "name": "python",
   "nbconvert_exporter": "python",
   "pygments_lexer": "ipython3",
   "version": "3.8.10"
  }
 },
 "nbformat": 4,
 "nbformat_minor": 5
}
